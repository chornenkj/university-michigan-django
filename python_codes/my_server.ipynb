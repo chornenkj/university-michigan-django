{
 "cells": [
  {
   "cell_type": "code",
   "execution_count": null,
   "id": "d8ece4ff",
   "metadata": {},
   "outputs": [
    {
     "name": "stdout",
     "output_type": "stream",
     "text": [
      "Access http://localhost:9000\n",
      "GET / HTTP/1.1\n",
      "GET /favicon.ico HTTP/1.1\n",
      "\n",
      "GET http://localhost:9000 HTTP/1.0\n",
      "GET http://localhost:9000 HTTP/1.0\n",
      "GET http://localhost:9000 HTTP/1.0\n",
      "GET http://localhost:9000 HTTP/1.0\n",
      "GET http://localhost:9000 HTTP/1.0\n"
     ]
    }
   ],
   "source": [
    "from socket import *\n",
    "\n",
    "def createServer():\n",
    "    server_socket = socket(AF_INET,SOCK_STREAM)\n",
    "    try:\n",
    "        server_socket.bind(('localhost',9000))\n",
    "        server_socket.listen(5)\n",
    "        while(1):\n",
    "            (client_socket,address) = server_socket.accept()\n",
    "            rd = client_socket.recv(5000).decode()\n",
    "            pieces = rd.split('\\n')\n",
    "            if len(pieces) > 0:\n",
    "                print(pieces[0])\n",
    "            data = 'HTTP/1.1 200 OK\\r\\n'\n",
    "            data += 'Content-Type: text/html; charset=utf-8\\r\\n'\n",
    "            data += '\\r\\n'\n",
    "            data += '<html><body>Hello World</body></html>\\r\\n\\r\\n'\n",
    "            client_socket.sendall(data.encode())\n",
    "            client_socket.shutdown(SHUT_WR)\n",
    "    except KeyboardInterrupt:\n",
    "        print('\\nShutting down...\\n')\n",
    "    except Exception as exc:\n",
    "        print('Error:\\n')\n",
    "        print(exc)\n",
    "    server_socket.close()\n",
    "\n",
    "print('Access http://localhost:9000')\n",
    "createServer()"
   ]
  },
  {
   "cell_type": "code",
   "execution_count": null,
   "id": "fba9250a",
   "metadata": {},
   "outputs": [],
   "source": [
    " "
   ]
  }
 ],
 "metadata": {
  "kernelspec": {
   "display_name": "Python 3 (ipykernel)",
   "language": "python",
   "name": "python3"
  },
  "language_info": {
   "codemirror_mode": {
    "name": "ipython",
    "version": 3
   },
   "file_extension": ".py",
   "mimetype": "text/x-python",
   "name": "python",
   "nbconvert_exporter": "python",
   "pygments_lexer": "ipython3",
   "version": "3.9.12"
  }
 },
 "nbformat": 4,
 "nbformat_minor": 5
}
