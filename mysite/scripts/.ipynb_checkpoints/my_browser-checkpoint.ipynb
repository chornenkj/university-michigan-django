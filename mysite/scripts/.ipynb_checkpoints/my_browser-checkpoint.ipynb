{
 "cells": [
  {
   "cell_type": "code",
   "execution_count": 2,
   "id": "e94a2533",
   "metadata": {},
   "outputs": [
    {
     "name": "stdout",
     "output_type": "stream",
     "text": [
      "HTTP/1.1 200 OK\r\n",
      "Date: Tue, 08 Nov 2022 12:09:58 GMT\r\n",
      "Server: Apache/2.4.18 (Ubuntu)\r\n",
      "Last-Modified: Mon, 15 May 2017 11:11:47 GMT\r\n",
      "ETag: \"80-54f8e1f004857\"\r\n",
      "Accept-Ranges: bytes\r\n",
      "Content-Length: 128\r\n",
      "Cache-Control: max-age=0, no-cache, no-store, must-revalidate\r\n",
      "Pragma: no-cache\r\n",
      "Expires: Wed, 11 Jan 1984 05:00:00 GMT\r\n",
      "Connection: close\r\n",
      "Content-Type: text/html\r\n",
      "\r\n",
      "<h1>The First Page</h1>\n",
      "<p>\n",
      "If you like, you can switch to the \n",
      "<a href=\"http://data.pr4e.org/page2.htm\">\n",
      "Second Page</a>.\n",
      "</p>\n",
      " "
     ]
    }
   ],
   "source": [
    "# This web browser connects to data.pr4e.org:80\n",
    "\n",
    "import socket\n",
    "\n",
    "my_socket = socket.socket(socket.AF_INET,socket.SOCK_STREAM)\n",
    "my_socket.connect(('data.pr4e.org',80))\n",
    "cmd = 'GET http://data.pr4e.org/page1.htm HTTP/1.0\\r\\n\\r\\n'.encode()\n",
    "my_socket.send(cmd)\n",
    "\n",
    "while True:\n",
    "    data = my_socket.recv(512)\n",
    "    if len(data) < 1:\n",
    "        break\n",
    "    print(data.decode(), end=' ')\n",
    "\n",
    "my_socket.close()"
   ]
  },
  {
   "cell_type": "code",
   "execution_count": null,
   "id": "bc12a3aa",
   "metadata": {},
   "outputs": [],
   "source": [
    "# This web browser connects to my_server\n",
    "\n",
    "import socket\n",
    "\n",
    "my_socket = socket.socket(socket.AF_INET,socket.SOCK_STREAM)\n",
    "my_socket.connect(('localhost',9000))\n",
    "cmd = 'GET http://localhost:9000 HTTP/1.0\\r\\n\\r\\n'.encode()\n",
    "my_socket.send(cmd)\n",
    "\n",
    "while True:\n",
    "    data = my_socket.recv(512)\n",
    "    if len(data) < 1:\n",
    "        break\n",
    "    print(data.decode(), end=' ')\n",
    "\n",
    "my_socket.close()"
   ]
  },
  {
   "cell_type": "code",
   "execution_count": null,
   "id": "202a7313",
   "metadata": {},
   "outputs": [],
   "source": []
  }
 ],
 "metadata": {
  "kernelspec": {
   "display_name": "Python 3 (ipykernel)",
   "language": "python",
   "name": "python3"
  },
  "language_info": {
   "codemirror_mode": {
    "name": "ipython",
    "version": 3
   },
   "file_extension": ".py",
   "mimetype": "text/x-python",
   "name": "python",
   "nbconvert_exporter": "python",
   "pygments_lexer": "ipython3",
   "version": "3.9.12"
  }
 },
 "nbformat": 4,
 "nbformat_minor": 5
}
